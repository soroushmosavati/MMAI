{
  "nbformat": 4,
  "nbformat_minor": 0,
  "metadata": {
    "colab": {
      "provenance": [],
      "include_colab_link": true
    },
    "kernelspec": {
      "name": "python3",
      "display_name": "Python 3"
    },
    "accelerator": "GPU",
    "gpuClass": "standard"
  },
  "cells": [
    {
      "cell_type": "markdown",
      "metadata": {
        "id": "view-in-github",
        "colab_type": "text"
      },
      "source": [
        "<a href=\"https://colab.research.google.com/github/soroushmosavati/MMAI/blob/NLP/20315945_Mosavati_Soroush_ex1.ipynb\" target=\"_parent\"><img src=\"https://colab.research.google.com/assets/colab-badge.svg\" alt=\"Open In Colab\"/></a>"
      ]
    },
    {
      "cell_type": "markdown",
      "metadata": {
        "id": "hy0azQCVlCiR"
      },
      "source": [
        "# MMAI 894 - Exercise 1\n",
        "## Feedforward artificial neural network : Image classification\n",
        "The goal of this excercise is to show you how to create your first neural network using the tensorflow/keras library. We will be using the MNIST dataset.\n",
        "\n",
        "Submission instructions:\n",
        "- You cannot edit this notebook directly. Save a copy to your drive, and make sure to identify yourself in the title using name and student number\n",
        "- Do not insert new cells before the final one (titled \"Further exploration\")\n",
        "- Verify that your notebook can _restart and run all_.\n",
        "- Select File -> Download as .py (important! not as ipynb)\n",
        "- Rename the file: `studentID_lastname_firstname_ex1.py`\n",
        "- The mark will be assessed on the implementation of the functions with #TODO\n",
        "- **Do not change anything outside the functions**  unless in the further exploration section\n",
        "- The mark is not based on final accuracy - only on correctness\n",
        "- Note: You do not have to answer the questions in the notebook as part of your submission. They are meant to guide you.\n",
        "\n",
        "- You should not need to use any additional libraries other than the ones listed below. You may want to import additional modules from those libraries, however.\n",
        "\n",
        "References\n",
        "- https://keras.io/getting-started/sequential-model-guide/\n",
        "- https://keras.io/api/utils/python_utils/#to_categorical-function\n",
        "- https://scikit-learn.org/stable/modules/generated/sklearn.model_selection.train_test_split.html\n",
        "- https://keras.io/api/layers/core_layers/dense/\n",
        "- https://keras.io/api/layers/regularization_layers/dropout/\n",
        "- https://keras.io/api/models/model_training_apis/\n"
      ]
    },
    {
      "cell_type": "markdown",
      "metadata": {
        "id": "qp33aomJmJtl"
      },
      "source": [
        "### Libraries"
      ]
    },
    {
      "cell_type": "code",
      "metadata": {
        "id": "trOyfziVgETH"
      },
      "source": [
        "# Import modules\n",
        "# Add modules as needed\n",
        "from sklearn.datasets import fetch_openml\n",
        "from sklearn.model_selection import train_test_split\n",
        "\n",
        "# For windows laptops add following 2 lines:\n",
        "#import matplotlib\n",
        "#matplotlib.use('agg')\n"
      ],
      "execution_count": null,
      "outputs": []
    },
    {
      "cell_type": "markdown",
      "metadata": {
        "id": "_ZmZEVmTmQGH"
      },
      "source": [
        "### Data preparation\n",
        "\n",
        "#### Import data"
      ]
    },
    {
      "cell_type": "code",
      "metadata": {
        "id": "0gRy7rVvg_Sl"
      },
      "source": [
        "def load_data():\n",
        "    # Import MNIST dataset from openml\n",
        "    dataset = fetch_openml('mnist_784', version=1, data_home=None)\n",
        "\n",
        "    # Data preparation\n",
        "    raw_X = dataset['data']\n",
        "    raw_Y = dataset['target']\n",
        "    return raw_X, raw_Y\n",
        "\n",
        "raw_X, raw_Y = load_data()"
      ],
      "execution_count": null,
      "outputs": []
    },
    {
      "cell_type": "markdown",
      "metadata": {
        "id": "YEwXHBQh8r93"
      },
      "source": [
        "## Consider the following\n",
        "- what shape is X?\n",
        "- what value ranges does X take?\n",
        " - might this present a problem?\n",
        " - what transformations need to be applied?\n",
        "- what shape is Y?\n",
        "- what value ranges does Y take?\n",
        " - what transformations should be applied?"
      ]
    },
    {
      "cell_type": "code",
      "metadata": {
        "id": "RT499lYakFjo"
      },
      "source": [
        "def clean_data(raw_X, raw_Y):\n",
        "    # TODO: clean, QA, and prep raw_X and raw_Y\n",
        "    # DO NOT CHANGE THE INPUTS OR OUTPUTS TO THIS FUNCTIONthanks\n",
        "    cleaned_X = keras.utils.normalize(raw_X, axis=-1 , order=2)\n",
        "    cleaned_Y = keras.utils.to_categorical(raw_Y, num_classes=10, dtype=\"float32\")\n",
        "\n",
        "    return cleaned_X, cleaned_Y\n",
        "\n",
        "cleaned_X, cleaned_Y = clean_data(raw_X, raw_Y)"
      ],
      "execution_count": null,
      "outputs": []
    },
    {
      "cell_type": "code",
      "metadata": {
        "id": "7gjkRpwbkP1j",
        "colab": {
          "base_uri": "https://localhost:8080/"
        },
        "outputId": "cb82e82b-ca16-4e55-816b-1ebb9801c94f"
      },
      "source": [
        "def split_data(cleaned_X, cleaned_Y):\n",
        "    # TODO: split the data into validation, test, and train datasets\n",
        "    # DO NOT CHANGE THE INPUTS OR OUTPUTS TO THIS FUNCTION\n",
        "    X_test, X_train, Y_test, Y_train= train_test_split(cleaned_X, cleaned_Y, test_size=0.50, random_state=0)\n",
        "    X_val, X_test, Y_val, Y_test = train_test_split(X_test, Y_test, test_size=0.60, random_state=0)\n",
        "\n",
        "    return X_val, X_test, X_train, Y_val, Y_test, Y_train\n",
        "\n",
        "X_val, X_test, X_train, Y_val, Y_test, Y_train = split_data(cleaned_X, cleaned_Y)\n",
        "print(X_val.shape, X_test.shape, X_train.shape, Y_val.shape, Y_test.shape, Y_train.shape)"
      ],
      "execution_count": null,
      "outputs": [
        {
          "output_type": "stream",
          "name": "stdout",
          "text": [
            "(14000, 784) (21000, 784) (35000, 784) (14000, 10) (21000, 10) (35000, 10)\n"
          ]
        }
      ]
    },
    {
      "cell_type": "markdown",
      "metadata": {
        "id": "MpfxuSt4nKUw"
      },
      "source": [
        "#### Data split\n",
        "\n",
        "- Split your data into a train set (50%), validation set (20%) and a test set (30%). You may use scikit-learn's train_test_split function."
      ]
    },
    {
      "cell_type": "markdown",
      "metadata": {
        "id": "lGHlLLTanrUI"
      },
      "source": [
        "#### [Optional]: plot your data with matplotlib\n",
        "- Hint: you will need to reshape the row's data into a 28x28 matrix\n",
        "- https://matplotlib.org/3.1.1/api/_as_gen/matplotlib.pyplot.imshow.html\n",
        "- https://docs.scipy.org/doc/numpy/reference/generated/numpy.reshape.html"
      ]
    },
    {
      "cell_type": "code",
      "metadata": {
        "id": "wYpoQEMEkUhL",
        "colab": {
          "base_uri": "https://localhost:8080/",
          "height": 129
        },
        "outputId": "aaab4ada-c6be-4c13-b381-ded7e0a39a49"
      },
      "source": [
        "def viz_data(X_train):\n",
        "    # TODO: (optional) plot your data with matplotlib\n",
        "    # DO NOT CHANGE THE INPUTS OR OUTPUTS TO THIS FUNCTION\n",
        "      plt.figure(figsize=(20,20))\n",
        "      for digits in range(0,10):\n",
        "          plt.subplot(1,10,digits+1)\n",
        "          grid = X_train.iloc[digits].to_numpy().reshape(28,28)\n",
        "          plt.imshow(grid, interpolation = \"none\", cmap = \"gray\")\n",
        "          plt.xticks([])\n",
        "          plt.yticks([])\n",
        "      plt.show()\n",
        "\n",
        "viz_data(X_train)"
      ],
      "execution_count": null,
      "outputs": [
        {
          "output_type": "display_data",
          "data": {
            "text/plain": [
              "<Figure size 1440x1440 with 10 Axes>"
            ],
            "image/png": "[encoded data removed]"
          },
          "metadata": {}
        }
      ]
    },
    {
      "cell_type": "markdown",
      "metadata": {
        "id": "WRTFvCTzn12X"
      },
      "source": [
        "### Model\n",
        "\n",
        "#### Neural network structure\n",
        "- For this network, we'll use 2 hidden layers\n",
        "- Layer 1 should have 128 nodes, a dropout rate of 20%, and relu as its activation function\n",
        "- Layer 2 should have 64 nodes, a dropout rate of 20%, and relu as its activation function\n",
        "- The last layer should map back to the 10 possible MNIST class. Use softmax as the activation\n",
        "\n"
      ]
    },
    {
      "cell_type": "code",
      "metadata": {
        "id": "pgoOjxY9ki_O",
        "colab": {
          "base_uri": "https://localhost:8080/"
        },
        "outputId": "eac85a51-705f-4f27-bfd3-be5bd1f415ea"
      },
      "source": [
        "def build_model():\n",
        "    # TODO: build the model,\n",
        "    # HINT: you should have Total params: 109,386\n",
        "    # DO NOT CHANGE THE INPUTS OR OUTPUTS TO THIS FUNCTION\n",
        "\n",
        "    model = keras.Sequential()\n",
        "    model.add(keras.Input(shape=(784,)))\n",
        "    model.add(keras.layers.Dense(128, activation=\"relu\"))\n",
        "    model.add(Dropout(0.2))\n",
        "    model.add(keras.layers.Dense(64, activation=\"relu\"))\n",
        "    model.add(Dropout(0.2))\n",
        "    model.add(keras.layers.Dense(10, activation=\"softmax\"))\n",
        "\n",
        "    return model\n",
        "\n",
        "model = build_model()\n",
        "\n",
        "model.summary()\n"
      ],
      "execution_count": null,
      "outputs": [
        {
          "output_type": "stream",
          "name": "stdout",
          "text": [
            "Model: \"sequential\"\n",
            "_________________________________________________________________\n",
            " Layer (type)                Output Shape              Param #   \n",
            "=================================================================\n",
            " dense (Dense)               (None, 128)               100480    \n",
            "                                                                 \n",
            " dropout (Dropout)           (None, 128)               0         \n",
            "                                                                 \n",
            " dense_1 (Dense)             (None, 64)                8256      \n",
            "                                                                 \n",
            " dropout_1 (Dropout)         (None, 64)                0         \n",
            "                                                                 \n",
            " dense_2 (Dense)             (None, 10)                650       \n",
            "                                                                 \n",
            "=================================================================\n",
            "Total params: 109,386\n",
            "Trainable params: 109,386\n",
            "Non-trainable params: 0\n",
            "_________________________________________________________________\n"
          ]
        }
      ]
    },
    {
      "cell_type": "markdown",
      "metadata": {
        "id": "vqv4in2ZodVR"
      },
      "source": [
        "# Model compilation\n",
        "\n",
        "- what loss function should you use?\n",
        "- Note your choice of optimizer\n",
        "- Include accuracy as a metric (why are we using accuracy here?)\n",
        "\n",
        "# Model training\n",
        "- Use a batch size of 128, and train for 12 epochs\n",
        "- Use verbose training, include validation data\n",
        "\n",
        "More information: https://keras.io/api/models/model_training_apis/\n"
      ]
    },
    {
      "cell_type": "code",
      "metadata": {
        "id": "dHD6wIDlk095",
        "colab": {
          "base_uri": "https://localhost:8080/"
        },
        "outputId": "12ce47cc-86a7-411c-a2bd-bb43e284c009"
      },
      "source": [
        "def compile_model(model):\n",
        "    # TODO: compile the model\n",
        "    # DO NOT CHANGE THE INPUTS OR OUTPUTS TO THIS FUNCTION\n",
        "    model.compile(optimizer='Adam', loss='categorical_crossentropy', metrics=['accuracy'])\n",
        "\n",
        "    return model\n",
        "\n",
        "def train_model(model, X_train, Y_train, X_val, Y_val):\n",
        "    history = model.fit(X_train, Y_train, validation_data=(X_val, Y_val), verbose=1 , epochs=12 , batch_size=128)\n",
        "    return model, history\n",
        "\n",
        "\n",
        "model = compile_model(model)\n",
        "model, history = train_model(model, X_train, Y_train, X_val, Y_val)"
      ],
      "execution_count": null,
      "outputs": [
        {
          "output_type": "stream",
          "name": "stdout",
          "text": [
            "Epoch 1/12\n",
            "274/274 [==============================] - 7s 6ms/step - loss: 0.8664 - accuracy: 0.7520 - val_loss: 0.3340 - val_accuracy: 0.9041\n",
            "Epoch 2/12\n",
            "274/274 [==============================] - 1s 5ms/step - loss: 0.3593 - accuracy: 0.8931 - val_loss: 0.2471 - val_accuracy: 0.9270\n",
            "Epoch 3/12\n",
            "274/274 [==============================] - 1s 5ms/step - loss: 0.2787 - accuracy: 0.9185 - val_loss: 0.2001 - val_accuracy: 0.9412\n",
            "Epoch 4/12\n",
            "274/274 [==============================] - 1s 5ms/step - loss: 0.2338 - accuracy: 0.9306 - val_loss: 0.1719 - val_accuracy: 0.9486\n",
            "Epoch 5/12\n",
            "274/274 [==============================] - 1s 5ms/step - loss: 0.1971 - accuracy: 0.9422 - val_loss: 0.1498 - val_accuracy: 0.9571\n",
            "Epoch 6/12\n",
            "274/274 [==============================] - 1s 5ms/step - loss: 0.1731 - accuracy: 0.9487 - val_loss: 0.1353 - val_accuracy: 0.9608\n",
            "Epoch 7/12\n",
            "274/274 [==============================] - 2s 6ms/step - loss: 0.1583 - accuracy: 0.9528 - val_loss: 0.1250 - val_accuracy: 0.9639\n",
            "Epoch 8/12\n",
            "274/274 [==============================] - 2s 6ms/step - loss: 0.1423 - accuracy: 0.9582 - val_loss: 0.1152 - val_accuracy: 0.9669\n",
            "Epoch 9/12\n",
            "274/274 [==============================] - 1s 5ms/step - loss: 0.1277 - accuracy: 0.9615 - val_loss: 0.1079 - val_accuracy: 0.9692\n",
            "Epoch 10/12\n",
            "274/274 [==============================] - 2s 8ms/step - loss: 0.1172 - accuracy: 0.9649 - val_loss: 0.1058 - val_accuracy: 0.9697\n",
            "Epoch 11/12\n",
            "274/274 [==============================] - 1s 5ms/step - loss: 0.1088 - accuracy: 0.9670 - val_loss: 0.0993 - val_accuracy: 0.9708\n",
            "Epoch 12/12\n",
            "274/274 [==============================] - 1s 5ms/step - loss: 0.0993 - accuracy: 0.9693 - val_loss: 0.0943 - val_accuracy: 0.9717\n"
          ]
        }
      ]
    },
    {
      "cell_type": "markdown",
      "metadata": {
        "id": "v6wzs18_ormL"
      },
      "source": [
        "# Model evaluation\n",
        "- Show the performance on the test set\n",
        "- What is the difference between \"evaluate\" and \"predict\"?\n",
        "- Identify a few images the model classifies incorrectly. Any observations?"
      ]
    },
    {
      "cell_type": "code",
      "metadata": {
        "id": "jxrqJb9Uk3Hz",
        "colab": {
          "base_uri": "https://localhost:8080/"
        },
        "outputId": "0654ec2f-1795-446b-9af7-fdd5eede1ef3"
      },
      "source": [
        "def eval_model(model, X_test, Y_test):\n",
        "    # TODO: evaluate the model\n",
        "    # DO NOT CHANGE THE INPUTS OR OUTPUTS TO THIS FUNCTION\n",
        "\n",
        "    score = model.evaluate(X_test, Y_test, verbose=1)\n",
        "    test_accuracy=print('Test accuracy:', score[1])\n",
        "    test_loss=print('Test loss:', score[0])\n",
        "\n",
        "    return test_loss, test_accuracy\n",
        "\n",
        "test_loss, test_accuracy = eval_model(model, X_test, Y_test)\n",
        "\n",
        "print('Result:', test_loss, test_accuracy)"
      ],
      "execution_count": null,
      "outputs": [
        {
          "output_type": "stream",
          "name": "stdout",
          "text": [
            "657/657 [==============================] - 2s 3ms/step - loss: 0.0946 - accuracy: 0.9716\n",
            "Test accuracy: 0.9715714454650879\n",
            "Test loss: 0.09455550462007523\n",
            "Result: None None\n"
          ]
        }
      ]
    },
    {
      "cell_type": "markdown",
      "metadata": {
        "id": "u21sXyjWpnPX"
      },
      "source": [
        "Further exploration (Not evaluated)\n",
        "Looking for something else  to do?\n",
        "- Transform your code to do hyperparameter search.\n",
        "- You can vary the number of nodes in the layers, the drop out rate, the optimizer and the parameters in Adam, the batch size, etc.\n"
      ]
    },
    {
      "cell_type": "code",
      "source": [
        "#Printing a sample of prediction\n",
        "from matplotlib.spines import np\n",
        "Y_Predict = model.predict(X_test)\n",
        "Y_Predict = np.argmax(Y_Predict, axis=1)\n",
        "print(\"Predicted Number is:\", Y_Predict[50])\n",
        "\n",
        "print(\"Original Number is:\")\n",
        "\n",
        "Pred_grid = X_test.iloc[50].to_numpy().reshape(28,28)\n",
        "plt.imshow(Pred_grid, interpolation = \"none\", cmap = \"gray\")\n",
        "plt.xticks([])\n",
        "plt.yticks([])\n",
        "plt.show()"
      ],
      "metadata": {
        "colab": {
          "base_uri": "https://localhost:8080/",
          "height": 304
        },
        "id": "d1D6Kok6qget",
        "outputId": "4ffa0e1d-f1f7-41d6-a485-071eee89326f"
      },
      "execution_count": null,
      "outputs": [
        {
          "output_type": "stream",
          "name": "stdout",
          "text": [
            "657/657 [==============================] - 1s 2ms/step\n",
            "Predicted Number is: 8\n",
            "Original Number is:\n"
          ]
        },
        {
          "output_type": "display_data",
          "data": {
            "text/plain": [
              "<Figure size 432x288 with 1 Axes>"
            ],
            "image/png": "[encoded data removed]"
          },
          "metadata": {}
        }
      ]
    },
    {
      "cell_type": "code",
      "source": [
        "Y_test_rev= np.argmax(Y_test, axis=1)\n",
        "\n",
        "print('')\n",
        "print(\"List of incorrect prediction:\")\n",
        "print('')\n",
        "incorrects = np.nonzero(Y_Predict.reshape((-1,)) != Y_test_rev)\n",
        "\n",
        "print(incorrects)"
      ],
      "metadata": {
        "colab": {
          "base_uri": "https://localhost:8080/"
        },
        "id": "bp1_1jOi4EEu",
        "outputId": "292f7eb4-cfbb-4bba-c0eb-a564ab384b5c"
      },
      "execution_count": null,
      "outputs": [
        {
          "output_type": "stream",
          "name": "stdout",
          "text": [
            "\n",
            "List of incorrect prediction:\n",
            "\n",
            "(array([   23,    41,    61,    98,   158,   187,   300,   338,   351,\n",
            "         405,   508,   509,   539,   548,   571,   621,   622,   636,\n",
            "         661,   679,   702,   784,   796,   808,   843,   894,   905,\n",
            "         918,   933,   943,  1042,  1112,  1212,  1233,  1254,  1292,\n",
            "        1330,  1384,  1394,  1399,  1415,  1510,  1537,  1556,  1565,\n",
            "        1576,  1612,  1616,  1627,  1655,  1673,  1711,  1729,  1787,\n",
            "        1805,  1819,  1880,  1908,  1985,  2074,  2099,  2106,  2120,\n",
            "        2131,  2148,  2152,  2183,  2223,  2241,  2246,  2277,  2297,\n",
            "        2421,  2501,  2533,  2559,  2571,  2627,  2648,  2651,  2730,\n",
            "        2739,  2746,  2813,  2861,  2893,  2933,  2936,  2961,  2978,\n",
            "        3020,  3049,  3071,  3076,  3085,  3111,  3131,  3178,  3192,\n",
            "        3289,  3310,  3360,  3368,  3391,  3418,  3424,  3452,  3491,\n",
            "        3754,  3821,  3845,  3868,  3914,  3975,  3991,  4018,  4070,\n",
            "        4087,  4108,  4118,  4138,  4152,  4179,  4236,  4267,  4276,\n",
            "        4316,  4334,  4345,  4429,  4454,  4460,  4467,  4524,  4529,\n",
            "        4555,  4637,  4683,  4704,  4836,  4843,  4850,  4867,  4948,\n",
            "        4966,  4997,  5001,  5038,  5085,  5227,  5282,  5297,  5306,\n",
            "        5333,  5360,  5517,  5572,  5610,  5618,  5646,  5671,  5693,\n",
            "        5722,  5738,  5775,  5831,  5884,  5907,  5950,  5951,  5965,\n",
            "        5986,  6039,  6043,  6074,  6108,  6128,  6156,  6226,  6272,\n",
            "        6498,  6511,  6542,  6547,  6559,  6615,  6632,  6647,  6717,\n",
            "        6749,  6777,  6791,  6793,  6819,  6823,  6832,  6842,  6865,\n",
            "        6904,  6960,  7000,  7018,  7036,  7089,  7122,  7164,  7179,\n",
            "        7190,  7217,  7247,  7274,  7321,  7336,  7421,  7448,  7451,\n",
            "        7530,  7567,  7608,  7682,  7856,  7869,  7916,  7957,  7963,\n",
            "        8080,  8081,  8082,  8186,  8197,  8211,  8219,  8230,  8354,\n",
            "        8359,  8416,  8417,  8467,  8494,  8523,  8562,  8615,  8707,\n",
            "        8710,  8724,  8773,  8828,  8846,  8870,  8916,  8954,  8973,\n",
            "        9037,  9055,  9090,  9096,  9276,  9317,  9332,  9395,  9409,\n",
            "        9412,  9425,  9434,  9437,  9690,  9707,  9722,  9740,  9750,\n",
            "        9774,  9777,  9801,  9843,  9882,  9940,  9946, 10044, 10063,\n",
            "       10113, 10124, 10142, 10229, 10235, 10251, 10262, 10364, 10399,\n",
            "       10460, 10487, 10578, 10672, 10716, 10731, 10790, 10803, 10832,\n",
            "       10861, 10951, 10979, 11045, 11154, 11163, 11196, 11228, 11247,\n",
            "       11250, 11267, 11276, 11290, 11345, 11351, 11391, 11409, 11436,\n",
            "       11476, 11485, 11513, 11542, 11557, 11585, 11630, 11703, 11708,\n",
            "       11804, 11837, 11846, 11852, 11879, 11888, 11928, 11936, 11943,\n",
            "       11944, 11946, 11951, 11957, 11980, 11981, 11992, 11999, 12020,\n",
            "       12042, 12046, 12093, 12178, 12187, 12204, 12210, 12274, 12284,\n",
            "       12287, 12295, 12335, 12345, 12370, 12426, 12518, 12561, 12581,\n",
            "       12628, 12688, 12722, 12795, 12885, 13002, 13101, 13163, 13220,\n",
            "       13264, 13265, 13273, 13281, 13285, 13353, 13399, 13401, 13403,\n",
            "       13417, 13452, 13470, 13561, 13664, 13690, 13831, 13931, 14035,\n",
            "       14066, 14081, 14086, 14186, 14250, 14259, 14261, 14298, 14397,\n",
            "       14402, 14431, 14435, 14468, 14576, 14669, 14696, 14705, 14802,\n",
            "       14826, 14835, 14865, 14901, 14944, 14959, 14970, 15006, 15020,\n",
            "       15059, 15087, 15114, 15132, 15201, 15211, 15260, 15269, 15305,\n",
            "       15348, 15419, 15502, 15575, 15641, 15684, 15793, 15924, 15977,\n",
            "       15990, 16004, 16011, 16019, 16041, 16050, 16133, 16263, 16274,\n",
            "       16367, 16380, 16388, 16515, 16530, 16531, 16573, 16587, 16591,\n",
            "       16605, 16621, 16650, 16662, 16739, 16807, 16828, 16864, 16872,\n",
            "       16958, 16979, 16985, 17003, 17010, 17012, 17014, 17042, 17045,\n",
            "       17070, 17079, 17090, 17115, 17158, 17170, 17190, 17221, 17324,\n",
            "       17406, 17409, 17412, 17442, 17458, 17520, 17523, 17603, 17814,\n",
            "       17854, 17893, 17993, 18022, 18043, 18057, 18119, 18136, 18164,\n",
            "       18176, 18187, 18214, 18226, 18229, 18243, 18264, 18316, 18332,\n",
            "       18427, 18429, 18431, 18480, 18558, 18567, 18585, 18602, 18605,\n",
            "       18612, 18621, 18650, 18682, 18699, 18700, 18706, 18755, 18885,\n",
            "       18937, 18942, 18990, 19048, 19051, 19060, 19070, 19099, 19102,\n",
            "       19103, 19105, 19120, 19176, 19179, 19191, 19261, 19270, 19278,\n",
            "       19319, 19329, 19359, 19386, 19402, 19462, 19494, 19501, 19523,\n",
            "       19585, 19612, 19639, 19652, 19660, 19668, 19674, 19684, 19685,\n",
            "       19720, 19759, 19782, 19795, 19817, 19859, 19903, 19907, 19948,\n",
            "       19969, 19974, 19986, 20012, 20067, 20089, 20122, 20270, 20304,\n",
            "       20351, 20354, 20359, 20401, 20442, 20481, 20549, 20565, 20572,\n",
            "       20593, 20603, 20633, 20672, 20859, 20873, 20874, 20882, 20937,\n",
            "       20938, 20949, 20971]),)\n"
          ]
        }
      ]
    },
    {
      "cell_type": "code",
      "source": [
        "#Displaying a sample of incorrect prediction\n",
        "Pred_grid = X_test.iloc[16515].to_numpy().reshape(28,28)\n",
        "plt.imshow(Pred_grid, interpolation = \"none\", cmap = \"gray\")\n",
        "plt.xticks([])\n",
        "plt.yticks([])\n",
        "plt.show()\n",
        "print('')\n",
        "print(\"The predicted digit was:\")\n",
        "print(Y_Predict[16515])\n",
        "print('')\n",
        "print(\"The correct digit was:\")\n",
        "Y_Cor = Y_test[16515]\n",
        "Y_Cor = np.argmax(Y_Cor, axis=0)\n",
        "print(Y_Cor)\n"
      ],
      "metadata": {
        "colab": {
          "base_uri": "https://localhost:8080/",
          "height": 356
        },
        "id": "7AYMl2_UqcXp",
        "outputId": "edf95f5a-ae1f-4ad8-e726-5dc68941cd61"
      },
      "execution_count": null,
      "outputs": [
        {
          "output_type": "display_data",
          "data": {
            "text/plain": [
              "<Figure size 432x288 with 1 Axes>"
            ],
            "image/png": "[encoded data removed]"
          },
          "metadata": {}
        },
        {
          "output_type": "stream",
          "name": "stdout",
          "text": [
            "\n",
            "The predicted digit was:\n",
            "6\n",
            "\n",
            "The correct digit was:\n",
            "0\n"
          ]
        }
      ]
    }
  ]
}